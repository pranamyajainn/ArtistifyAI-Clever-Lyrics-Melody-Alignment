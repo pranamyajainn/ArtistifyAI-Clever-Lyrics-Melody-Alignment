{
 "cells": [
  {
   "cell_type": "code",
   "execution_count": null,
   "id": "ca1f25f3-6ad6-4dfb-982e-7621502f48cb",
   "metadata": {},
   "outputs": [
    {
     "name": "stdout",
     "output_type": "stream",
     "text": [
      "Epoch 1/50\n"
     ]
    }
   ],
   "source": [
    "import numpy as np\n",
    "import pickle\n",
    "from tensorflow.keras.models import Sequential\n",
    "from tensorflow.keras.layers import LSTM, Dense, Dropout, Embedding\n",
    "from tensorflow.keras.utils import to_categorical\n",
    "from tensorflow.keras.preprocessing.sequence import pad_sequences\n",
    "\n",
    "# Load processed notes\n",
    "with open(\"../data/processed_notes.pkl\", \"rb\") as f:\n",
    "    notes = pickle.load(f)\n",
    "\n",
    "# Create a mapping of notes to integers\n",
    "unique_notes = sorted(set(notes))\n",
    "note_to_int = {note: number for number, note in enumerate(unique_notes)}\n",
    "\n",
    "# Convert notes to integer sequences\n",
    "sequence_length = 50  # Number of notes per input sequence\n",
    "input_sequences = []\n",
    "output_notes = []\n",
    "\n",
    "for i in range(len(notes) - sequence_length):\n",
    "    input_sequences.append([note_to_int[n] for n in notes[i:i + sequence_length]])\n",
    "    output_notes.append(note_to_int[notes[i + sequence_length]])\n",
    "\n",
    "# Reshape for LSTM\n",
    "X = np.array(input_sequences)\n",
    "y = to_categorical(output_notes, num_classes=len(unique_notes))\n",
    "\n",
    "# Pad sequences to ensure uniform length\n",
    "X = pad_sequences(X, maxlen=sequence_length, padding='pre')\n",
    "\n",
    "# Build LSTM Model\n",
    "model = Sequential([\n",
    "    Embedding(len(unique_notes), 100, input_length=sequence_length),\n",
    "    LSTM(256, return_sequences=True),\n",
    "    Dropout(0.2),\n",
    "    LSTM(256),\n",
    "    Dense(256, activation='relu'),\n",
    "    Dense(len(unique_notes), activation='softmax')\n",
    "])\n",
    "\n",
    "model.compile(loss='categorical_crossentropy', optimizer='adam', metrics=['accuracy'])\n",
    "\n",
    "# Train Model\n",
    "history = model.fit(X, y, epochs=50, batch_size=64, verbose=1)\n",
    "\n",
    "# Save Model\n",
    "model.save(\"../models/melody_generator.h5\")\n",
    "\n",
    "print(\"✅ Training complete! Model saved to ../models/melody_generator.h5\")\n",
    "\n",
    "\n"
   ]
  }
 ],
 "metadata": {
  "kernelspec": {
   "display_name": "Python 3 (ipykernel)",
   "language": "python",
   "name": "python3"
  },
  "language_info": {
   "codemirror_mode": {
    "name": "ipython",
    "version": 3
   },
   "file_extension": ".py",
   "mimetype": "text/x-python",
   "name": "python",
   "nbconvert_exporter": "python",
   "pygments_lexer": "ipython3",
   "version": "3.10.16"
  }
 },
 "nbformat": 4,
 "nbformat_minor": 5
}
