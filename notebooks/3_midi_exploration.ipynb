{
 "cells": [
  {
   "cell_type": "code",
   "execution_count": 2,
   "id": "ae715ac8-5cb0-4a93-931f-e254513deca3",
   "metadata": {},
   "outputs": [
    {
     "name": "stdout",
     "output_type": "stream",
     "text": [
      "✅ Found 9 MIDI files:\n",
      "\n",
      "Samplab_Zayn - Me, Myself an (1).mid\n",
      "Samplab_Zayn - Me, Myself an.mid\n",
      "Samplab_ZAYN - My Woman (Off.mid\n",
      "Samplab_ZAYN - The Time (Off.mid\n",
      "Zayn - Can't Help Falling in Love (Cover).mid\n",
      "ZAYN - Dreamin (Official Lyric Video).mid\n",
      "ZAYN - Grateful (Official Lyric Video).mid\n",
      "Zayn - Me, Myself and I (Beyoncé Cover) (1).mid\n",
      "ZAYN - Something In The Water (Official Lyric Video).mid\n"
     ]
    }
   ],
   "source": [
    "import os\n",
    "\n",
    "midi_folder = \"../data/midi\"  # Adjust if needed\n",
    "\n",
    "# Check if the folder exists\n",
    "if not os.path.exists(midi_folder):\n",
    "    print(\"❌ MIDI folder not found!\")\n",
    "else:\n",
    "    # List all MIDI files in the folder\n",
    "    midi_files = os.listdir(midi_folder)\n",
    "    \n",
    "    if midi_files:\n",
    "        print(f\"✅ Found {len(midi_files)} MIDI files:\\n\")\n",
    "        for file in midi_files:\n",
    "            print(file)\n",
    "    else:\n",
    "        print(\"❌ No MIDI files found in /data/midi/. Check if you moved them correctly.\")\n",
    "\n"
   ]
  },
  {
   "cell_type": "code",
   "execution_count": 5,
   "id": "08a8ba2e-8083-4538-9180-296ac5aedb48",
   "metadata": {},
   "outputs": [
    {
     "name": "stderr",
     "output_type": "stream",
     "text": [
      "C:\\Users\\ajeet\\.conda\\envs\\artistify\\lib\\site-packages\\music21\\stream\\base.py:3675: Music21DeprecationWarning: .flat is deprecated.  Call .flatten() instead\n",
      "  return self.iter().getElementsByClass(classFilterList)\n"
     ]
    },
    {
     "name": "stdout",
     "output_type": "stream",
     "text": [
      "✅ Successfully processed 5555 musical elements and saved to processed_notes.pkl\n"
     ]
    }
   ],
   "source": [
    "from music21 import converter, instrument, note, chord\n",
    "import os\n",
    "import numpy as np\n",
    "import pickle\n",
    "\n",
    "midi_folder = \"../data/midi\"\n",
    "processed_notes = []\n",
    "\n",
    "# Function to extract notes and chords from a MIDI file\n",
    "def extract_notes_from_midi(file_path):\n",
    "    midi = converter.parse(file_path)\n",
    "    notes_list = []\n",
    "    \n",
    "    for part in midi.parts:  # Instead of filtering, process ALL parts\n",
    "        for element in part.flat.notes:\n",
    "            if isinstance(element, note.Note):\n",
    "                notes_list.append(str(element.pitch))  # Extract single note\n",
    "            elif isinstance(element, chord.Chord):\n",
    "                notes_list.append('.'.join(str(n) for n in element.normalOrder))  # Extract chords\n",
    "    \n",
    "    return notes_list\n",
    "\n",
    "\n",
    "# Process all MIDI files\n",
    "for file in os.listdir(midi_folder):\n",
    "    if file.endswith(\".mid\"):\n",
    "        file_path = os.path.join(midi_folder, file)\n",
    "        notes = extract_notes_from_midi(file_path)\n",
    "        processed_notes.extend(notes)  # Add extracted notes to main list\n",
    "\n",
    "# Save extracted notes as a file for training\n",
    "with open(\"../data/processed_notes.pkl\", \"wb\") as f:\n",
    "    pickle.dump(processed_notes, f)\n",
    "\n",
    "print(f\"✅ Successfully processed {len(processed_notes)} musical elements and saved to processed_notes.pkl\")\n",
    "\n"
   ]
  },
  {
   "cell_type": "code",
   "execution_count": 4,
   "id": "88e1d52d-6c03-44b6-b529-9b9df78235a4",
   "metadata": {},
   "outputs": [
    {
     "name": "stdout",
     "output_type": "stream",
     "text": [
      "🔍 Testing MIDI file: ../data/midi\\Samplab_Zayn - Me, Myself an (1).mid\n",
      "✅ Successfully loaded ../data/midi\\Samplab_Zayn - Me, Myself an (1).mid\n",
      "📌 MIDI Parts: 1\n"
     ]
    }
   ],
   "source": [
    "from music21 import converter\n",
    "\n",
    "midi_folder = \"../data/midi\"  # Adjust path if needed\n",
    "\n",
    "# Pick the first MIDI file to test\n",
    "midi_files = [f for f in os.listdir(midi_folder) if f.endswith(\".mid\")]\n",
    "\n",
    "if not midi_files:\n",
    "    print(\"❌ No MIDI files found in /data/midi/! Check your folder.\")\n",
    "else:\n",
    "    test_file = os.path.join(midi_folder, midi_files[0])\n",
    "    print(f\"🔍 Testing MIDI file: {test_file}\")\n",
    "\n",
    "    try:\n",
    "        midi = converter.parse(test_file)\n",
    "        print(f\"✅ Successfully loaded {test_file}\")\n",
    "        print(f\"📌 MIDI Parts: {len(midi.parts)}\")\n",
    "    except Exception as e:\n",
    "        print(f\"❌ Error loading MIDI: {e}\")\n"
   ]
  },
  {
   "cell_type": "code",
   "execution_count": null,
   "id": "cb25cb6a-09b6-4369-b580-465088fd8df0",
   "metadata": {},
   "outputs": [],
   "source": []
  }
 ],
 "metadata": {
  "kernelspec": {
   "display_name": "Python 3 (ipykernel)",
   "language": "python",
   "name": "python3"
  },
  "language_info": {
   "codemirror_mode": {
    "name": "ipython",
    "version": 3
   },
   "file_extension": ".py",
   "mimetype": "text/x-python",
   "name": "python",
   "nbconvert_exporter": "python",
   "pygments_lexer": "ipython3",
   "version": "3.10.16"
  }
 },
 "nbformat": 4,
 "nbformat_minor": 5
}
